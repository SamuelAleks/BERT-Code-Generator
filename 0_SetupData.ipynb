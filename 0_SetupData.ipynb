{
 "cells": [
  {
   "cell_type": "code",
   "execution_count": null,
   "metadata": {},
   "outputs": [],
   "source": [
    "# Generate dataset file pair\n",
    "# In order to work, one must have a 'rawData' directory, and store the raw .txt files there\n",
    "# Both files are saved to the parent dir\n",
    "\n",
    "import os\n",
    "import re\n",
    "\n",
    "!rm \"concatenateLines.txt\"\n",
    "!rm \"concatenate.txt\"\n",
    "\n",
    "delimiter = ' +++$+++ '\n",
    "directory = 'rawData'\n",
    "i = 0\n",
    "j = 0\n",
    "commentDelimiter = [\"//\",\"#\",\"/*\",\"*/\",\" *\"]\n",
    "array = []\n",
    "testFile = dest = open('./concatenateLines.txt', 'w')   # Write file with line interaction information\n",
    "\n",
    "\n",
    "# Size of both files depends on raw dataset size\n",
    "dest = open('./concatenate.txt', 'w', encoding='iso-8859-1')    # Write concatenated line file\n",
    "for filename in os.listdir(directory):\n",
    "    with open('./rawData/' + filename, 'r', encoding='iso-8859-1') as src:\n",
    "        for line in src:\n",
    "            if not line.startswith(commentDelimiter[4]) + line.__contains__(commentDelimiter[3]) + line.__contains__(commentDelimiter[2]) + line.__contains__(commentDelimiter[1]) + line.__contains__(commentDelimiter[0]):\n",
    "                if not line.isspace():\n",
    "                    dest.write('%s%s%s%s%s%s%s%s%s\\n' % ('L',str(j),' +++$+++ ','u',str(i),' +++$+++ ', filename, ' +++$+++ ', line.rstrip('\\n')))\n",
    "                    print(\"Line: \",line)\n",
    "                    j += 1\n",
    "                    array.append(\"L\"+str(j))\n",
    "    testFile.write('%s%s%s%s\\n' % ('u',str(i), ' +++$+++ ', str(array)) )\n",
    "    array.clear()\n",
    "    i+=1\n",
    "    \n"
   ]
  }
 ],
 "metadata": {
  "kernelspec": {
   "display_name": "Python 3 (ipykernel)",
   "language": "python",
   "name": "python3"
  },
  "language_info": {
   "codemirror_mode": {
    "name": "ipython",
    "version": 3
   },
   "file_extension": ".py",
   "mimetype": "text/x-python",
   "name": "python",
   "nbconvert_exporter": "python",
   "pygments_lexer": "ipython3",
   "version": "3.9.13"
  },
  "vscode": {
   "interpreter": {
    "hash": "9edb29f1aabff51627098739998def60f315a2acfbd3eb0e7c9edf1adb44bd36"
   }
  }
 },
 "nbformat": 4,
 "nbformat_minor": 2
}
